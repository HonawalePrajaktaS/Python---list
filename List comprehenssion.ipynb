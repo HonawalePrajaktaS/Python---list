{
 "cells": [
  {
   "cell_type": "code",
   "execution_count": 1,
   "id": "6fcc55e6-78d6-4e87-bc73-4c4e28e63c1a",
   "metadata": {},
   "outputs": [
    {
     "name": "stdout",
     "output_type": "stream",
     "text": [
      "[0, 1, 4, 9, 16, 25, 36, 49, 64, 81]\n"
     ]
    }
   ],
   "source": [
    "squr=[x**2 for x in range(10)]\n",
    "print(squr)"
   ]
  },
  {
   "cell_type": "code",
   "execution_count": 2,
   "id": "ce63a4dd-debc-44f6-a2c7-e0af164c623c",
   "metadata": {},
   "outputs": [
    {
     "name": "stdout",
     "output_type": "stream",
     "text": [
      "3\n"
     ]
    }
   ],
   "source": [
    "summ=sum([x for x in range(3)])\n",
    "print(summ)"
   ]
  },
  {
   "cell_type": "code",
   "execution_count": 4,
   "id": "654b32ec-9769-46c2-b471-ac5b52b2ef16",
   "metadata": {},
   "outputs": [
    {
     "name": "stdout",
     "output_type": "stream",
     "text": [
      "[0, 4, 16, 36, 64]\n"
     ]
    }
   ],
   "source": [
    "squr=[x**2 for x in range(10) if x%2==0]\n",
    "print(squr)"
   ]
  },
  {
   "cell_type": "code",
   "execution_count": 8,
   "id": "8458802d-cf9b-487d-b438-9a0308d04f5f",
   "metadata": {},
   "outputs": [
    {
     "name": "stdout",
     "output_type": "stream",
     "text": [
      "[5, 6, 6, 4]\n"
     ]
    }
   ],
   "source": [
    "words=[\"apple\",\"banana\",\"cherry\",\"date\"]\n",
    "lengths=[len(word) for word in words]\n",
    "print(lengths)"
   ]
  },
  {
   "cell_type": "code",
   "execution_count": 9,
   "id": "59826717-6293-44bf-9159-8bcd27da5961",
   "metadata": {},
   "outputs": [
    {
     "name": "stdout",
     "output_type": "stream",
     "text": [
      "[1, 4, 3, 16, 5, 36, 7, 64, 9, 100]\n"
     ]
    }
   ],
   "source": [
    "xxx=[x**2 if x%2==0 else x for x in range(1,11)]\n",
    "print(xxx)"
   ]
  },
  {
   "cell_type": "markdown",
   "id": "4d009bd5-5b40-4597-870a-5aec1f2b6818",
   "metadata": {},
   "source": [
    "Removing Vowels from a String:\n"
   ]
  },
  {
   "cell_type": "code",
   "execution_count": 11,
   "id": "5fbac884-dd50-4d66-ac2e-85dc8c71f4bc",
   "metadata": {},
   "outputs": [
    {
     "name": "stdout",
     "output_type": "stream",
     "text": [
      "shwn Dshmkh\n"
     ]
    }
   ],
   "source": [
    "string=\"Ashwin Deshmukh\"\n",
    "consonants=[chat for chat in string if chat.lower() not in \"aeiou\"]\n",
    "ss=\"\".join(consonants)\n",
    "print(ss)"
   ]
  },
  {
   "cell_type": "markdown",
   "id": "fd390176-0518-4ba2-86ae-967e49aa9b00",
   "metadata": {},
   "source": [
    "Converting a List of Strings to Integers:"
   ]
  },
  {
   "cell_type": "code",
   "execution_count": 12,
   "id": "a9d85a3c-2186-4518-96b1-26682e607a39",
   "metadata": {},
   "outputs": [
    {
     "name": "stdout",
     "output_type": "stream",
     "text": [
      "[1, 2, 3, 4, 5, 6, 7]\n"
     ]
    }
   ],
   "source": [
    "str_num=[\"1\",\"2\",\"3\",\"4\",\"5\",\"6\",\"7\"]\n",
    "int_num=[int(num) for num in str_num]\n",
    "print(int_num)"
   ]
  },
  {
   "cell_type": "markdown",
   "id": "a58cdfb3-695e-4446-b90b-9b1c10747a6d",
   "metadata": {},
   "source": [
    "Filtering with List Comprehension:"
   ]
  },
  {
   "cell_type": "code",
   "execution_count": 13,
   "id": "77307179-ab6f-4031-9df8-88e86cb13a2f",
   "metadata": {},
   "outputs": [
    {
     "name": "stdout",
     "output_type": "stream",
     "text": [
      "[5, 6, 7, 8, 9]\n"
     ]
    }
   ],
   "source": [
    "num=[1,2,3,4,5,6,7,8,9]\n",
    "x=[x for x in num if x>4]\n",
    "print(x)"
   ]
  }
 ],
 "metadata": {
  "kernelspec": {
   "display_name": "Python 3 (ipykernel)",
   "language": "python",
   "name": "python3"
  },
  "language_info": {
   "codemirror_mode": {
    "name": "ipython",
    "version": 3
   },
   "file_extension": ".py",
   "mimetype": "text/x-python",
   "name": "python",
   "nbconvert_exporter": "python",
   "pygments_lexer": "ipython3",
   "version": "3.12.2"
  }
 },
 "nbformat": 4,
 "nbformat_minor": 5
}
