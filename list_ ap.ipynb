{
 "cells": [
  {
   "cell_type": "code",
   "execution_count": 1,
   "id": "e8c3398d-2a06-4c84-8223-4972fb23efc0",
   "metadata": {},
   "outputs": [
    {
     "data": {
      "text/plain": [
       "89999"
      ]
     },
     "execution_count": 1,
     "metadata": {},
     "output_type": "execute_result"
    }
   ],
   "source": [
    "# Find the Maximum Element in a List:\n",
    "def maxi(listt):\n",
    "    max_num=0\n",
    "    for i in listt:\n",
    "        if i>max_num:\n",
    "            max_num=i\n",
    "    return max_num\n",
    "a=maxi([1,4,32,5,6,77,89999])\n",
    "a"
   ]
  },
  {
   "cell_type": "code",
   "execution_count": 4,
   "id": "035b6d68-14f7-4039-b13d-7be48628323b",
   "metadata": {},
   "outputs": [
    {
     "data": {
      "text/plain": [
       "[1, 2, 3, 4, 5, 6, 7, 89]"
      ]
     },
     "execution_count": 4,
     "metadata": {},
     "output_type": "execute_result"
    }
   ],
   "source": [
    "# Remove Duplicates from a List: \n",
    "listt=[1,2,1,3,4,5,6,5,3,4,5,6,7,89]\n",
    "def duplicate(listt):\n",
    "    listt=set(listt)\n",
    "    return listt\n",
    "a=duplicate(listt)\n",
    "list(a)"
   ]
  },
  {
   "cell_type": "code",
   "execution_count": 6,
   "id": "1d70ceb2-ed4d-42af-8474-8ae1dab6d556",
   "metadata": {},
   "outputs": [
    {
     "data": {
      "text/plain": [
       "[1, 2, 3, 4, 5, 6, 7, 89]"
      ]
     },
     "execution_count": 6,
     "metadata": {},
     "output_type": "execute_result"
    }
   ],
   "source": [
    "def duplicate(listt):\n",
    "    listt1=[]\n",
    "    for i in listt:\n",
    "        if i not in listt1:\n",
    "            listt1.append(i)\n",
    "    return listt1\n",
    "a=duplicate(listt)\n",
    "a"
   ]
  },
  {
   "cell_type": "code",
   "execution_count": 7,
   "id": "48d1252d-f474-4623-ae14-31d58e961c3f",
   "metadata": {},
   "outputs": [
    {
     "data": {
      "text/plain": [
       "[89, 7, 6, 5, 4, 3, 5, 6, 5, 4, 3, 1, 2, 1]"
      ]
     },
     "execution_count": 7,
     "metadata": {},
     "output_type": "execute_result"
    }
   ],
   "source": [
    "# Reverse a List:\n",
    "def reverse(listt):\n",
    "    r_listt=[]\n",
    "    for i in listt[::-1]:\n",
    "        r_listt.append(i)\n",
    "    return r_listt\n",
    "a=reverse(listt)\n",
    "a"
   ]
  },
  {
   "cell_type": "code",
   "execution_count": 9,
   "id": "d7a924e8-9784-48d8-93b3-8319254070fd",
   "metadata": {},
   "outputs": [
    {
     "data": {
      "text/plain": [
       "False"
      ]
     },
     "execution_count": 9,
     "metadata": {},
     "output_type": "execute_result"
    }
   ],
   "source": [
    "# Check for Palindrome List: \n",
    "def pali(listt):\n",
    "    if listt==listt[::-1]:\n",
    "        return True\n",
    "    else:\n",
    "        return False\n",
    "a=pali([1,2,3,2,3,1])\n",
    "a"
   ]
  },
  {
   "cell_type": "code",
   "execution_count": 15,
   "id": "bab9256a-cecf-4999-bfe2-4341b08b6b0d",
   "metadata": {},
   "outputs": [
    {
     "data": {
      "text/plain": [
       "True"
      ]
     },
     "execution_count": 15,
     "metadata": {},
     "output_type": "execute_result"
    }
   ],
   "source": [
    "def pali(listt):\n",
    "    l=[]\n",
    "    for i in range (-1,-len(listt)-1,-1):\n",
    "        l.append(listt[i])\n",
    "    if listt==l:\n",
    "        return True\n",
    "    else:\n",
    "        return False\n",
    "a=pali([1,2,3,2,1])\n",
    "a "
   ]
  },
  {
   "cell_type": "code",
   "execution_count": 17,
   "id": "e88b3447-3bde-442c-a451-40350d5a6b91",
   "metadata": {},
   "outputs": [
    {
     "data": {
      "text/plain": [
       "[2, 3, 4]"
      ]
     },
     "execution_count": 17,
     "metadata": {},
     "output_type": "execute_result"
    }
   ],
   "source": [
    "# Find Common Elements in Two Lists: \n",
    "def common(list1,list2):\n",
    "    c=[]\n",
    "    for i in list1:\n",
    "        for j in list2:\n",
    "            if i==j:\n",
    "                c.append(i)\n",
    "    return c\n",
    "list1=[1,2,3,4,5]\n",
    "list2=[2,3,7,4,8]\n",
    "\n",
    "a=common(list1,list2)\n",
    "a"
   ]
  },
  {
   "cell_type": "code",
   "execution_count": 18,
   "id": "ede7cc69-a36f-48f4-a94c-e0b6cdd0c807",
   "metadata": {},
   "outputs": [
    {
     "data": {
      "text/plain": [
       "[2, 3, 4]"
      ]
     },
     "execution_count": 18,
     "metadata": {},
     "output_type": "execute_result"
    }
   ],
   "source": [
    "# --> list comprehension\n",
    "c_element=[i for i in list1 if i in list2]\n",
    "c_element"
   ]
  },
  {
   "cell_type": "code",
   "execution_count": 31,
   "id": "bc645970-18a4-45af-ba95-29755d16152d",
   "metadata": {},
   "outputs": [
    {
     "data": {
      "text/plain": [
       "[1, 2, 3, 4, 5, 7, 8]"
      ]
     },
     "execution_count": 31,
     "metadata": {},
     "output_type": "execute_result"
    }
   ],
   "source": [
    "# Merge Two Sorted Lists: \n",
    "def merge(list1,list2):\n",
    "    list1=sorted(list1)\n",
    "    list2=sorted(list2)\n",
    "    i,j=0,0\n",
    "    x=[]\n",
    "    while i<len(list1) and j<len(list2):\n",
    "        if list1[i]<list2[j]:\n",
    "            if list1[i] not in x:\n",
    "                x.append(list1[i])\n",
    "            i=i+1\n",
    "        else:\n",
    "            if list2[j] not in x:\n",
    "                x.append(list2[j])\n",
    "            j=j+1\n",
    "        while i <len(list1):\n",
    "            if list1[i] not in x:\n",
    "                x.append(list1[i])\n",
    "            i=i+1\n",
    "\n",
    "        while j <len(list2):\n",
    "            if list2[j] not in x:\n",
    "                x.append(list2[j])\n",
    "            j=j+1\n",
    "    \n",
    "    \n",
    "    return x\n",
    "a=merge(list1,list2)\n",
    "a\n",
    "                "
   ]
  },
  {
   "cell_type": "code",
   "execution_count": 33,
   "id": "838b664f-ff7a-43ba-9e27-282781884835",
   "metadata": {},
   "outputs": [
    {
     "data": {
      "text/plain": [
       "15"
      ]
     },
     "execution_count": 33,
     "metadata": {},
     "output_type": "execute_result"
    }
   ],
   "source": [
    "# Calculate the Sum of List Elements\n",
    "def summ(list1):\n",
    "    sum_e=0\n",
    "    for i in list1:\n",
    "        sum_e=sum_e+i\n",
    "    return sum_e\n",
    "a=summ(list1)\n",
    "a"
   ]
  },
  {
   "cell_type": "code",
   "execution_count": 41,
   "id": "4ad565c2-8322-4c8e-84fc-7962c98a1330",
   "metadata": {},
   "outputs": [
    {
     "data": {
      "text/plain": [
       "'num is:3 and count is: 3'"
      ]
     },
     "execution_count": 41,
     "metadata": {},
     "output_type": "execute_result"
    }
   ],
   "source": [
    "#  Count Occurrences of an Element in a List:\n",
    "def occ(list1, num):\n",
    "    count=0\n",
    "    for i in list1:\n",
    "        if num ==i:\n",
    "            count=count+1\n",
    "    return f\"num is:{num} and count is: {count}\"\n",
    "a=occ([2,3,1,2,3,3],3)\n",
    "a"
   ]
  },
  {
   "cell_type": "code",
   "execution_count": 43,
   "id": "8a7baadb-fdf2-4e2a-86f4-a10611b0e3ee",
   "metadata": {},
   "outputs": [
    {
     "data": {
      "text/plain": [
       "8"
      ]
     },
     "execution_count": 43,
     "metadata": {},
     "output_type": "execute_result"
    }
   ],
   "source": [
    "#Find the Second Largest Element in a List: \n",
    "def second(list1):\n",
    "    list1=sorted(set(list1))\n",
    "    return list1[-2]\n",
    "list1=[2,4,6,7,8,9]\n",
    "a=second(list1)\n",
    "a"
   ]
  },
  {
   "cell_type": "markdown",
   "id": "6631c0f9-636f-42f5-a029-f63c2b03e74f",
   "metadata": {},
   "source": [
    "#Generate a List of Prime Numbers: \n",
    "def prime(num):\n",
    "    pri=[]\n",
    "    list1=[num for num in range(1,num+1)]\n",
    "    for i in range(2,lsit):\n",
    "        if num%i==0:\n",
    "            return False\n",
    "        else:\n",
    "            return True\n",
    "a=prime(11)\n",
    "a    "
   ]
  },
  {
   "cell_type": "code",
   "execution_count": 52,
   "id": "693215ff-c402-435e-9127-fa262653927f",
   "metadata": {},
   "outputs": [
    {
     "data": {
      "text/plain": [
       "[1, 2, 3, 4, 5]"
      ]
     },
     "execution_count": 52,
     "metadata": {},
     "output_type": "execute_result"
    }
   ],
   "source": [
    "# Add an Element at the Beginning of a List:\n",
    "def add_ele(list1,ele):\n",
    "    list1.insert(0,ele)\n",
    "    return list1\n",
    "a=add_ele([2,3,4,5],1)\n",
    "a"
   ]
  },
  {
   "cell_type": "code",
   "execution_count": 56,
   "id": "822951a1-609a-4fbf-a951-99c4471fc312",
   "metadata": {},
   "outputs": [
    {
     "data": {
      "text/plain": [
       "[1, 2, 1, 4, 5, 5, 4]"
      ]
     },
     "execution_count": 56,
     "metadata": {},
     "output_type": "execute_result"
    }
   ],
   "source": [
    "# Remove an Element from a List by Value: \n",
    "list1=[1,2,3,3,3,1,4,5,5,4]\n",
    "def r_ele(list1,ele):\n",
    "    l=[i for i in list1 if ele!=i]\n",
    "    return l\n",
    "a=r_ele(list1,3)\n",
    "a"
   ]
  },
  {
   "cell_type": "markdown",
   "id": "f9627e5f-9e55-422d-80bd-29f6fa13445c",
   "metadata": {},
   "source": [
    "# Find the Third Largest Element in a List: \n",
    "def third(l1):\n",
    "    l1=sorted(set(l1))\n",
    "    return l1[-3]\n",
    "a=third([13,5,6,5,4,3])\n",
    "a"
   ]
  },
  {
   "cell_type": "code",
   "execution_count": 62,
   "id": "de8fe6b3-e553-414b-83df-9a22139309ad",
   "metadata": {},
   "outputs": [
    {
     "data": {
      "text/plain": [
       "'Positive num count:4 , Negative num count:3'"
      ]
     },
     "execution_count": 62,
     "metadata": {},
     "output_type": "execute_result"
    }
   ],
   "source": [
    "# Count Negative and Positive Numbers in a List: \n",
    "input=[3, -2, 7, -1, 0, 5, -4] \n",
    "def p_n (input):\n",
    "    n_count=0\n",
    "    p_count=0\n",
    "    for i in input:\n",
    "        if i<0:\n",
    "            n_count+=1\n",
    "        else:\n",
    "            p_count+=1\n",
    "    return f\"Positive num count:{p_count} , Negative num count:{n_count}\"\n",
    "a=p_n(input)\n",
    "a"
   ]
  },
  {
   "cell_type": "code",
   "execution_count": 64,
   "id": "ff0e1481-d95c-457a-8510-e1c61f377d8f",
   "metadata": {},
   "outputs": [
    {
     "data": {
      "text/plain": [
       "[2, 3, 5, 6, 5, 5, 6, 5]"
      ]
     },
     "execution_count": 64,
     "metadata": {},
     "output_type": "execute_result"
    }
   ],
   "source": [
    "# Remove All Occurrences of an Element in a List:\n",
    "def remove_all(input,ele):\n",
    "    l=[x for x in input if x!=ele]\n",
    "    return l\n",
    "a=remove_all([2,3,4,5,6,5,4,5,6,5,4],4)\n",
    "a"
   ]
  },
  {
   "cell_type": "code",
   "execution_count": 66,
   "id": "927f1690-c049-41bb-8839-180284a03c7f",
   "metadata": {},
   "outputs": [
    {
     "data": {
      "text/plain": [
       "0"
      ]
     },
     "execution_count": 66,
     "metadata": {},
     "output_type": "execute_result"
    }
   ],
   "source": [
    "# Calculate the Product of List Elements:\n",
    "input=[2,3,4,5,0]\n",
    "def product(input):\n",
    "    p=1\n",
    "    for i in input:\n",
    "        p=p*i\n",
    "    return p\n",
    "a=product(input)\n",
    "a"
   ]
  },
  {
   "cell_type": "code",
   "execution_count": 68,
   "id": "a3fd402a-dd07-4d5f-a34b-9c4dc63cf526",
   "metadata": {},
   "outputs": [
    {
     "data": {
      "text/plain": [
       "{1: 2, 2: 2, 3: 1, 4: 1, 5: 1}"
      ]
     },
     "execution_count": 68,
     "metadata": {},
     "output_type": "execute_result"
    }
   ],
   "source": [
    "# count each element:\n",
    "input=[1, 2, 3, 2, 1, 4, 5] \n",
    "def non_repeat(input):\n",
    "    count_dict={}\n",
    "    for i in input:\n",
    "        if i in count_dict:\n",
    "            count_dict[i]+=1\n",
    "        else:\n",
    "            count_dict[i]=1\n",
    "    return count_dict\n",
    "a=non_repeat(input)\n",
    "a"
   ]
  },
  {
   "cell_type": "code",
   "execution_count": 70,
   "id": "1dc35d5e-9db3-4e86-972c-dfc4b799a99f",
   "metadata": {},
   "outputs": [
    {
     "data": {
      "text/plain": [
       "3"
      ]
     },
     "execution_count": 70,
     "metadata": {},
     "output_type": "execute_result"
    }
   ],
   "source": [
    "# Find the First Non-Repeating Element in a List:\n",
    "input=[1, 2, 3, 2, 1, 4, 5] \n",
    "def non_repeat(input):\n",
    "    count_dict={}\n",
    "    for i in input:\n",
    "        if i in count_dict:\n",
    "            count_dict[i]+=1\n",
    "        else:\n",
    "            count_dict[i]=1\n",
    "    for i in count_dict:\n",
    "        if count_dict[i]==1:\n",
    "            return i \n",
    "    return None\n",
    "a=non_repeat(input)\n",
    "a"
   ]
  },
  {
   "cell_type": "code",
   "execution_count": 71,
   "id": "083d3f12-d4e2-40f9-a7e8-8712456f0d74",
   "metadata": {},
   "outputs": [
    {
     "data": {
      "text/plain": [
       "[[2, 3, 5], [78, 99, 7], [54, 0, 2], [5]]"
      ]
     },
     "execution_count": 71,
     "metadata": {},
     "output_type": "execute_result"
    }
   ],
   "source": [
    "# Split a List into Chunks of a Given Size: \n",
    "input=[2,3,5,78,99,7,54,0,2,5]\n",
    "def split(input,chunk):\n",
    "    l=[]\n",
    "    for i in range(0,len(input),chunk):\n",
    "        l.append(input[i:i+chunk])\n",
    "    return l\n",
    "a=split(input,3)\n",
    "a "
   ]
  },
  {
   "cell_type": "code",
   "execution_count": 73,
   "id": "48ef82ea-2d62-43c8-8e39-6551fe9a1651",
   "metadata": {},
   "outputs": [
    {
     "data": {
      "text/plain": [
       "[1, 2, 3, 4, 5]"
      ]
     },
     "execution_count": 73,
     "metadata": {},
     "output_type": "execute_result"
    }
   ],
   "source": [
    "# Find the Union of Two Lists: \n",
    "l1=[1,2,3,4]\n",
    "l2=[2,3,4,5]\n",
    "def union(l1,l2):\n",
    "    return list(set(l1) | set(l2))\n",
    "a=union(l1,l2)\n",
    "a"
   ]
  },
  {
   "cell_type": "code",
   "execution_count": 4,
   "id": "8d9c298d-61d9-48cc-b1d7-9b2ef02b8bca",
   "metadata": {},
   "outputs": [
    {
     "data": {
      "text/plain": [
       "[1, 2, 3, 4, 5]"
      ]
     },
     "execution_count": 4,
     "metadata": {},
     "output_type": "execute_result"
    }
   ],
   "source": [
    "l1=[1,2,3,4]\n",
    "l2=[2,3,4,5]\n",
    "def union(l1,l2):\n",
    "    l=[i for i in set(l1+l2)]\n",
    "    return l\n",
    "a=union(l1,l2)\n",
    "a"
   ]
  },
  {
   "cell_type": "code",
   "execution_count": 19,
   "id": "18a1cd63-38a3-4e89-8528-87447e10544e",
   "metadata": {},
   "outputs": [
    {
     "data": {
      "text/plain": [
       "False"
      ]
     },
     "execution_count": 19,
     "metadata": {},
     "output_type": "execute_result"
    }
   ],
   "source": [
    "# Check if List is Sorted in Non-Decreasing Order: \n",
    "l1=[1,6,7,8,2]\n",
    "def desc(l1):\n",
    "    for i in range(len(l1)-1):\n",
    "        if l1[i]>l1[i+1]:\n",
    "            return False\n",
    "    return True\n",
    "a=desc(l1)\n",
    "a"
   ]
  },
  {
   "cell_type": "code",
   "execution_count": 20,
   "id": "12a1094b-d4a6-47d3-a6c1-37503fd06c66",
   "metadata": {},
   "outputs": [
    {
     "data": {
      "text/plain": [
       "[3, 2, 1, 0, 0, 2, 3]"
      ]
     },
     "execution_count": 20,
     "metadata": {},
     "output_type": "execute_result"
    }
   ],
   "source": [
    "# Remove Leading Zeros from a List of Integers: \n",
    "l1=[0,0,3,2,1,0,0,2,3]\n",
    "def remove_zero(l1):\n",
    "    while l1[0]==0:\n",
    "        l1.pop(0)\n",
    "    return l1\n",
    "a=remove_zero(l1)\n",
    "a       "
   ]
  },
  {
   "cell_type": "markdown",
   "id": "23ec76e9-9802-4938-bccf-0b417b96a883",
   "metadata": {},
   "source": [
    "# Find the Largest Subarray with Contiguous Elements: \n",
    "l1=[1,2,3,4,8,5,6,7,9]\n",
    "def subarray(l1):\n",
    "    while (l1[i]-l1[i+1]) !==1:\n",
    "        \n",
    "            "
   ]
  },
  {
   "cell_type": "code",
   "execution_count": 27,
   "id": "f294b84a-b40e-41b9-9ba3-92397c878a7d",
   "metadata": {},
   "outputs": [
    {
     "data": {
      "text/plain": [
       "[3, 4, 5]"
      ]
     },
     "execution_count": 27,
     "metadata": {},
     "output_type": "execute_result"
    }
   ],
   "source": [
    "# Find All Duplicates in a List:\n",
    "l1=[1,3,4,2,3,4,5,6,5,4,3,7,8,9]\n",
    "def d(l1):\n",
    "    dic={}\n",
    "    duplicate=[]\n",
    "    for i in l1:\n",
    "        if i in dic:\n",
    "            dic[i]+=1\n",
    "        else:\n",
    "            dic[i]=1\n",
    "    for key, value in dic.items():\n",
    "        if value>1:\n",
    "            duplicate.append(key)\n",
    "    return duplicate\n",
    "a=d(l1)\n",
    "a"
   ]
  }
 ],
 "metadata": {
  "kernelspec": {
   "display_name": "Python 3 (ipykernel)",
   "language": "python",
   "name": "python3"
  },
  "language_info": {
   "codemirror_mode": {
    "name": "ipython",
    "version": 3
   },
   "file_extension": ".py",
   "mimetype": "text/x-python",
   "name": "python",
   "nbconvert_exporter": "python",
   "pygments_lexer": "ipython3",
   "version": "3.12.2"
  }
 },
 "nbformat": 4,
 "nbformat_minor": 5
}
